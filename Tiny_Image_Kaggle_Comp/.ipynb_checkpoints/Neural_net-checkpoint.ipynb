{
 "cells": [
  {
   "cell_type": "code",
   "execution_count": 1,
   "metadata": {},
   "outputs": [],
   "source": [
    "import numpy as np\n",
    "import matplotlib.pyplot as plt\n",
    "import pandas as pd\n",
    "from scipy.stats import randint as sp_randint\n",
    "\n",
    "from sklearn import preprocessing\n",
    "from sklearn.model_selection import train_test_split\n",
    "from sklearn.metrics import accuracy_score\n",
    "from sklearn.model_selection import RandomizedSearchCV\n",
    "\n",
    "\n",
    "# from sklearn.neighbors import KNeighborsClassifier\n",
    "from sklearn.neural_network import MLPClassifier\n",
    "from sklearn.svm import SVC"
   ]
  },
  {
   "cell_type": "markdown",
   "metadata": {},
   "source": [
    "# Load Data\n",
    "### For Kaggle Submission"
   ]
  },
  {
   "cell_type": "code",
   "execution_count": 2,
   "metadata": {},
   "outputs": [],
   "source": [
    "#base_dir = '/kaggle/input/';\n",
    "\n",
    "# load features, ignore header, ignore IDs\n",
    "#X_train = np.loadtxt(base_dir + 'train_features.csv', delimiter=',')[:,1:];\n",
    "#X_test = np.loadtxt(base_dir + 'test_features.csv', delimiter=',')[:,1:];\n",
    "#y_train = np.loadtxt(base_dir + 'train_labels.csv', dtype=np.uint8, delimiter=',', skiprows=1)[:,-1];"
   ]
  },
  {
   "cell_type": "markdown",
   "metadata": {},
   "source": [
    "# Load Data\n",
    "### For Personal Machine that has Data Files"
   ]
  },
  {
   "cell_type": "code",
   "execution_count": 3,
   "metadata": {},
   "outputs": [],
   "source": [
    "# load features, ignore header, ignore IDs\n",
    "X_train = np.loadtxt('train_features.csv', delimiter=',')[:,1:];\n",
    "X_test = np.loadtxt('test_features.csv', delimiter=',')[:,1:];\n",
    "y_train = np.loadtxt('train_labels.csv', dtype=np.uint8, delimiter=',', skiprows=1)[:,-1];"
   ]
  },
  {
   "cell_type": "code",
   "execution_count": 4,
   "metadata": {},
   "outputs": [
    {
     "data": {
      "image/png": "[encoded data removed]",
      "text/plain": [
       "<Figure size 432x288 with 1 Axes>"
      ]
     },
     "metadata": {
      "needs_background": "light"
     },
     "output_type": "display_data"
    },
    {
     "data": {
      "image/png": "[encoded data removed]",
      "text/plain": [
       "<Figure size 432x288 with 1 Axes>"
      ]
     },
     "metadata": {
      "needs_background": "light"
     },
     "output_type": "display_data"
    }
   ],
   "source": [
    "im_train = X_train[0,:].reshape((30,30,3), order='F')\n",
    "im_test = X_test[0,:].reshape((30,30,3), order='F')\n",
    "\n",
    "plt.figure(1)\n",
    "plt.imshow(im_train/255)\n",
    "plt.axis('off')\n",
    "\n",
    "plt.figure(2)\n",
    "plt.imshow(im_test/255)\n",
    "plt.axis('off');"
   ]
  },
  {
   "cell_type": "markdown",
   "metadata": {},
   "source": [
    "# Split the Data into training and testing data / Normalize Data"
   ]
  },
  {
   "cell_type": "code",
   "execution_count": 5,
   "metadata": {},
   "outputs": [],
   "source": [
    "train_train, train_test, out_train, out_test = train_test_split(X_train, y_train, test_size=0.33, random_state=42)\n",
    "\n",
    "train_normal = preprocessing.scale(train_train)\n",
    "train_scaler = preprocessing.StandardScaler().fit(train_train)\n",
    "\n",
    "clf = MLPClassifier()"
   ]
  },
  {
   "cell_type": "markdown",
   "metadata": {},
   "source": [
    "# Perform HyperParameter Search"
   ]
  },
  {
   "cell_type": "code",
   "execution_count": 7,
   "metadata": {},
   "outputs": [
    {
     "name": "stderr",
     "output_type": "stream",
     "text": [
      "/Users/Zack/miniconda3/envs/cs460g/lib/python3.6/site-packages/sklearn/model_selection/_search.py:841: DeprecationWarning: The default of the `iid` parameter will change from True to False in version 0.22 and will be removed in 0.24. This will change numeric results when test-set sizes are unequal.\n",
      "  DeprecationWarning)\n"
     ]
    }
   ],
   "source": [
    "# Specify parameters and distributions to sample from\n",
    "param_dist = {\"alpha\": [1e-5,1e-8,1e-3, ],\n",
    "              'activation': ['logistic','tanh','relu'],\n",
    "              \"hidden_layer_sizes\": sp_randint(1,15),\n",
    "              \"solver\": ['lbfgs'],\n",
    "              \"validation_fraction\": [0.2],\n",
    "              \"max_iter\": sp_randint(10,200),\n",
    "             \"random_state\" : [5,10,1]}\n",
    "\n",
    "# Define the number of iterations used in the search\n",
    "n_passes = 10\n",
    "clf_star = RandomizedSearchCV(clf, param_distributions=param_dist,\n",
    "                                   n_iter=n_passes, cv=5)\n",
    "\n",
    "# Fit the model to the data\n",
    "clf_star.fit(X=train_normal,y=out_train)\n",
    "\n",
    "x = np.flatnonzero(clf_star.cv_results_['rank_test_score'] == 1)\n",
    "model_params = clf_star.cv_results_['params'][int(x)]"
   ]
  },
  {
   "cell_type": "markdown",
   "metadata": {},
   "source": [
    "# Train model and ensure accuracy on validation data"
   ]
  },
  {
   "cell_type": "code",
   "execution_count": 8,
   "metadata": {},
   "outputs": [
    {
     "data": {
      "text/plain": [
       "0.24640287769784172"
      ]
     },
     "execution_count": 8,
     "metadata": {},
     "output_type": "execute_result"
    }
   ],
   "source": [
    "#clf = KNeighborsClassifier(n_jobs=-1)\n",
    "clf.set_params(**model_params)\n",
    "clf.fit(X=train_normal, y=out_train)\n",
    "\n",
    "df_test = pd.DataFrame(clf.predict(train_scaler.transform(train_test)), columns=['Label'])\n",
    "accuracy_score(out_test, df_test)"
   ]
  },
  {
   "cell_type": "markdown",
   "metadata": {},
   "source": [
    "# Make Predictions on Testing Data"
   ]
  },
  {
   "cell_type": "code",
   "execution_count": null,
   "metadata": {},
   "outputs": [],
   "source": [
    "#df = pd.DataFrame(clf.predict(X_test), columns=['Label'])\n",
    "#df.index += 1 # upgrade to one-based indexing\n",
    "#df.to_csv('knn_submission.csv',index_label='ID',columns=['Label'])"
   ]
  }
 ],
 "metadata": {
  "kernelspec": {
   "display_name": "Python 3",
   "language": "python",
   "name": "python3"
  },
  "language_info": {
   "codemirror_mode": {
    "name": "ipython",
    "version": 3
   },
   "file_extension": ".py",
   "mimetype": "text/x-python",
   "name": "python",
   "nbconvert_exporter": "python",
   "pygments_lexer": "ipython3",
   "version": "3.6.6"
  }
 },
 "nbformat": 4,
 "nbformat_minor": 2
}
