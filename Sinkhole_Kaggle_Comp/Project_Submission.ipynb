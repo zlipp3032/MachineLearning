{
 "cells": [
  {
   "cell_type": "code",
   "execution_count": 1,
   "metadata": {},
   "outputs": [],
   "source": [
    "import pandas as pd\n",
    "from pandas.plotting import scatter_matrix\n",
    "import numpy as np\n",
    "\n",
    "from sklearn.metrics import f1_score\n",
    "from sklearn import preprocessing\n",
    "from sklearn.model_selection import train_test_split\n",
    "\n",
    "from sklearn import tree\n",
    "from sklearn.ensemble import RandomForestClassifier\n",
    "from sklearn.linear_model import LogisticRegression\n",
    "from sklearn.svm import SVC # Support vector machines\n",
    "from sklearn.neural_network import MLPClassifier\n",
    "\n",
    "\n",
    "\n",
    "\n",
    "#train = pd.read_csv('/kaggle/input/train.csv')\n",
    "#test = pd.read_csv('/kaggle/input/test.csv')\n",
    "train = pd.read_csv('train.csv')\n",
    "test = pd.read_csv('test.csv')\n",
    "\n",
    "\n",
    "# Look at properties of training data\n",
    "#train.describe()\n",
    "\n",
    "# Visualize training dataset\n",
    "#scatter_matrix(train.drop(columns=['ID']), figsize=(12,12));"
   ]
  },
  {
   "cell_type": "code",
   "execution_count": 2,
   "metadata": {},
   "outputs": [],
   "source": [
    "# Split Training data and validation data\n",
    "train_train = train.sample(frac=0.8,random_state=43)\n",
    "train_valid = train.drop(train_train.index).reset_index(drop=True)\n",
    "\n",
    "#train_train, train_valid, y_train, y_valid = train_test_split(train.drop(columns=['ID','IsSinkhole']), train.IsSinkhole, test_size=0.33, random_state=42)"
   ]
  },
  {
   "cell_type": "code",
   "execution_count": 5,
   "metadata": {},
   "outputs": [
    {
     "name": "stdout",
     "output_type": "stream",
     "text": [
      "1.0\n"
     ]
    },
    {
     "name": "stderr",
     "output_type": "stream",
     "text": [
      "/Users/Zack/miniconda3/envs/cs460g/lib/python3.6/site-packages/ipykernel_launcher.py:2: DataConversionWarning: Data with input dtype int64, float64 were all converted to float64 by the scale function.\n",
      "  \n",
      "/Users/Zack/miniconda3/envs/cs460g/lib/python3.6/site-packages/sklearn/preprocessing/data.py:617: DataConversionWarning: Data with input dtype int64, float64 were all converted to float64 by StandardScaler.\n",
      "  return self.partial_fit(X, y)\n",
      "/Users/Zack/miniconda3/envs/cs460g/lib/python3.6/site-packages/ipykernel_launcher.py:17: DataConversionWarning: Data with input dtype int64, float64 were all converted to float64 by StandardScaler.\n"
     ]
    }
   ],
   "source": [
    "# Normalize the data and create the transformation\n",
    "train_normal = preprocessing.scale(train_train.drop(columns=['ID']))\n",
    "train_scaler = preprocessing.StandardScaler().fit(train.drop(columns=['ID']))\n",
    "\n",
    "# Choose the model type\n",
    "clf = tree.DecisionTreeClassifier(max_depth=10)\n",
    "#clf = RandomForestClassifier()\n",
    "#clf = LogisticRegression(max_iter = 500,tol=1e-4,C=1)\n",
    "#clf = SVC(C=10.0,kernel='rbf',gamma='auto') # kernel = 'rbf'\n",
    "#clf = MLPClassifier(solver='lbfgs',alpha=1e-5,hidden_layer_sizes=(15,15), random_state=1) #solver='adam'\n",
    "\n",
    "# Fit the model to the data\n",
    "clf.fit(X=train.drop(columns=['ID']),y=train.IsSinkhole)\n",
    "#clf.fit(X=train_normal,y=train_train.IsSinkhole)\n",
    "\n",
    "# Validate the current model\n",
    "predict_train = clf.predict(train_scaler.transform(train_valid.drop(columns=['ID'])),)\n",
    "f1 = f1_score(train_valid.IsSinkhole,predict_train)\n",
    "print(f1)\n"
   ]
  },
  {
   "cell_type": "code",
   "execution_count": null,
   "metadata": {},
   "outputs": [],
   "source": [
    "predictions = clf.predict(train_scaler.transform(test.drop(columns=['ID'])),)\n",
    "test['IsSinkhole'] = predictions\n",
    "test.to_csv('d8_decision_tree.csv',index_label='ID',columns=['IsSinkhole'])"
   ]
  },
  {
   "cell_type": "code",
   "execution_count": null,
   "metadata": {},
   "outputs": [],
   "source": []
  }
 ],
 "metadata": {
  "kernelspec": {
   "display_name": "Python 3",
   "language": "python",
   "name": "python3"
  },
  "language_info": {
   "codemirror_mode": {
    "name": "ipython",
    "version": 3
   },
   "file_extension": ".py",
   "mimetype": "text/x-python",
   "name": "python",
   "nbconvert_exporter": "python",
   "pygments_lexer": "ipython3",
   "version": "3.6.6"
  }
 },
 "nbformat": 4,
 "nbformat_minor": 2
}
