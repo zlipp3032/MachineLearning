{
 "cells": [
  {
   "cell_type": "code",
   "execution_count": 1,
   "metadata": {},
   "outputs": [],
   "source": [
    "import pandas as pd\n",
    "from pandas.plotting import scatter_matrix\n",
    "import numpy as np\n",
    "\n",
    "from sklearn.metrics import f1_score\n",
    "from sklearn import preprocessing\n",
    "from sklearn.model_selection import train_test_split\n",
    "from sklearn.neural_network import MLPClassifier\n",
    "\n",
    "#train = pd.read_csv('/kaggle/input/train.csv')\n",
    "#test = pd.read_csv('/kaggle/input/test.csv')\n",
    "train = pd.read_csv('train.csv')\n",
    "test = pd.read_csv('test.csv')\n"
   ]
  },
  {
   "cell_type": "markdown",
   "metadata": {},
   "source": [
    "# Split the training data into train and validation data using numpy sample"
   ]
  },
  {
   "cell_type": "code",
   "execution_count": 2,
   "metadata": {},
   "outputs": [],
   "source": [
    "# Split Training data and validation data\n",
    "train_train = train.sample(frac=0.8,random_state=43)\n",
    "train_valid = train.drop(train_train.index).reset_index(drop=True)"
   ]
  },
  {
   "cell_type": "markdown",
   "metadata": {},
   "source": [
    "# Normalize data and Choose Model\n",
    "\n",
    "I use the sklearn preprocessing function to normalize the data and obtain a transformation matrix\n",
    "\n",
    "I chose to use the sklearn RandomForestClassifier() function as my model\n",
    "\n",
    "I use the sklearn f1_score function to validate the trained model"
   ]
  },
  {
   "cell_type": "code",
   "execution_count": 6,
   "metadata": {},
   "outputs": [
    {
     "name": "stdout",
     "output_type": "stream",
     "text": [
      "0.8042269187986651\n"
     ]
    }
   ],
   "source": [
    "# Normalize the train_train data and create the transformation\n",
    "train_normal = preprocessing.scale(train_train.drop(columns=['ID','IsSinkhole']))\n",
    "train_scaler = preprocessing.StandardScaler().fit(train.drop(columns=['ID','IsSinkhole']))\n",
    "\n",
    "# Train the model\n",
    "clf = MLPClassifier(solver='lbfgs',alpha=1e-5,hidden_layer_sizes=( 15,3), random_state=1) #solver='adam'\n",
    "\n",
    "# Fit the model to the data\n",
    "clf.fit(X=train_normal,y=train_train.IsSinkhole)\n",
    "\n",
    "# Validate the current model using train_valid\n",
    "predict_train = clf.predict(train_scaler.transform(train_valid.drop(columns=['ID','IsSinkhole'])),)\n",
    "f1 = f1_score(train_valid.IsSinkhole,predict_train)\n",
    "print(f1)\n"
   ]
  },
  {
   "cell_type": "markdown",
   "metadata": {},
   "source": [
    "# Run the trained model on the test data\n",
    "\n",
    "I save the results over the test data to .csv file in the format prescribed by the kaggle Comp\n",
    "\n",
    "--> Note that we need to scale the test data or the trained weights will not work properly\n",
    "        I use the sklearn preprocessing.StandScaler().fit() function"
   ]
  },
  {
   "cell_type": "code",
   "execution_count": null,
   "metadata": {},
   "outputs": [],
   "source": [
    "predictions = clf.predict(train_scaler.transform(test.drop(columns=['ID'])),)\n",
    "test['IsSinkhole'] = predictions\n",
    "test.to_csv('Lippay_neural_net_classifier.csv',index_label='ID',columns=['IsSinkhole'])"
   ]
  }
 ],
 "metadata": {
  "kernelspec": {
   "display_name": "Python 3",
   "language": "python",
   "name": "python3"
  },
  "language_info": {
   "codemirror_mode": {
    "name": "ipython",
    "version": 3
   },
   "file_extension": ".py",
   "mimetype": "text/x-python",
   "name": "python",
   "nbconvert_exporter": "python",
   "pygments_lexer": "ipython3",
   "version": "3.6.6"
  }
 },
 "nbformat": 4,
 "nbformat_minor": 2
}
