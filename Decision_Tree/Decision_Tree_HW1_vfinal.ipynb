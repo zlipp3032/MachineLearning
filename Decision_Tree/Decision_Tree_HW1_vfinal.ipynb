{
 "cells": [
  {
   "cell_type": "markdown",
   "metadata": {},
   "source": [
    "Class name: CS 460g\n",
    "Assignment: Homework #1\n",
    "Student Name: Zachary Lippay\n",
    "Student Number: 10777632"
   ]
  },
  {
   "cell_type": "markdown",
   "metadata": {},
   "source": [
    "# Import Libraries and Set Data"
   ]
  },
  {
   "cell_type": "code",
   "execution_count": 2,
   "metadata": {},
   "outputs": [],
   "source": [
    "import numpy as np\n",
    "import copy\n",
    "import pandas as pd\n",
    "import statistics as stat\n",
    "import matplotlib.pyplot as plt\n",
    "\n",
    "def gen_from_mean_and_cov(means, covs, labels, mode='train', count=100):\n",
    "  \n",
    "  np.random.seed(0) if mode == 'train' else np.random.seed(1)\n",
    "      \n",
    "  vals = np.array([]).reshape(0,len(means[0])+1)\n",
    "\n",
    "  for i, (mean,cov,label) in enumerate(zip(means,covs,labels)):\n",
    "    vals_new = np.random.multivariate_normal(mean,cov,count);\n",
    "    vals_new = np.hstack([vals_new,np.ones((vals_new.shape[0],1))*label])\n",
    "    vals = np.vstack([vals,vals_new])    \n",
    "\n",
    "  df = pd.DataFrame(data=vals,columns=['x1','x2','y'])\n",
    "\n",
    "  return df\n",
    "\n",
    "# There are 6 different simple training datasets\n",
    "\n",
    "datasets = {\n",
    "    'train1':gen_from_mean_and_cov([[10,1],[0,4]],[[[2, 0],[0, 2]],[[2, 0],[0, 2]]],[1,0]),\n",
    "    'train2':gen_from_mean_and_cov([[10,1],[0,4]],[[[2, 0],[0, 2]],[[2, 0],[0, 2]]],[0,1]),\n",
    "    'train3':gen_from_mean_and_cov([[0,1],[0,3.5]],[[[1, .8],[.8, 1]],[[1, .8],[.8, 1]]],[1,0]),\n",
    "    'train4':gen_from_mean_and_cov([[1,0],[3,1]],[[[1, .8],[.8, 1]],[[1, .9],[.9, 1]]],[1,0]),\n",
    "    'train5':gen_from_mean_and_cov([[0,0],[4,0],[-4,0],[0,4],[0,-4]],[[[1, 0],[0, 1]],[[1, 0],[0, 1]],[[1, 0],[0, 1]],[[1, 0],[0, 1]],[[1, 0],[0, 1]]],[1,0,0,0,0]),\n",
    "    'train6':gen_from_mean_and_cov(\n",
    "    [[0,0],[4,0],[-4,0],[0,4],[0,-4],[-4,4],[4,4],[4,-4],[-4,-4]],\n",
    "    [[[1, 0],[0, 1]],[[1, 0],[0, 1]],[[1, 0],[0, 1]],[[1, 0],[0, 1]],[[1, 0],[0, 1]],[[1, 0],[0, 1]],[[1, 0],[0, 1]],[[1, 0],[0, 1]],[[1, 0],[0, 1]]],\n",
    "    [1,0,0,0,0,1,1,1,1]),\n",
    "    'test1':gen_from_mean_and_cov([[10,1],[0,4]],[[[2, 0],[0, 2]],[[2, 0],[0, 2]]],[1,0],mode='test'),\n",
    "    'test2':gen_from_mean_and_cov([[10,1],[0,4]],[[[2, 0],[0, 2]],[[2, 0],[0, 2]]],[0,1],mode='test'),\n",
    "    'test3':gen_from_mean_and_cov([[0,1],[0,3.5]],[[[1, .8],[.8, 1]],[[1, .8],[.8, 1]]],[1,0],mode='test'),\n",
    "    'test4':gen_from_mean_and_cov([[1,0],[3,1]],[[[1, .8],[.8, 1]],[[1, .9],[.9, 1]]],[1,0],mode='test'),\n",
    "    'test5':gen_from_mean_and_cov([[0,0],[4,0],[-4,0],[0,4],[0,-4]],[[[1, 0],[0, 1]],[[1, 0],[0, 1]],[[1, 0],[0, 1]],[[1, 0],[0, 1]],[[1, 0],[0, 1]]],[1,0,0,0,0],mode='test'),\n",
    "    'test6':gen_from_mean_and_cov(\n",
    "    [[0,0],[4,0],[-4,0],[0,4],[0,-4],[-4,4],[4,4],[4,-4],[-4,-4]],\n",
    "    [[[1, 0],[0, 1]],[[1, 0],[0, 1]],[[1, 0],[0, 1]],[[1, 0],[0, 1]],[[1, 0],[0, 1]],[[1, 0],[0, 1]],[[1, 0],[0, 1]],[[1, 0],[0, 1]],[[1, 0],[0, 1]]],\n",
    "    [1,0,0,0,0,1,1,1,1],mode='test')\n",
    "}\n",
    "\n"
   ]
  },
  {
   "cell_type": "markdown",
   "metadata": {},
   "source": [
    "# Training Data, Validation Data,Test Data, and Training Tree"
   ]
  },
  {
   "cell_type": "code",
   "execution_count": 8,
   "metadata": {},
   "outputs": [
    {
     "name": "stdout",
     "output_type": "stream",
     "text": [
      "This tree is done running\n"
     ]
    }
   ],
   "source": [
    "\n",
    "def running_tree_train(train_tree,data_train,k):\n",
    "    best_score = np.NaN\n",
    "    split = copy.deepcopy(train_tree)\n",
    "    \n",
    "    #! Begin the recursion loop defined by the desired tree depth\n",
    "    if (k == 0 or data_train.shape[0] < 2 or data_train['y'].drop_duplicates().shape[0] < 2):\n",
    "        split['label'] = stat.mode(data_train['y'])\n",
    "    else:\n",
    "        k = k-1\n",
    "        for i, curr_feat in enumerate(data_train):\n",
    "            if curr_feat != 'y':\n",
    "               \n",
    "                #! Sort the data such that the current feature values and their corresponding feature values are arranged\n",
    "                #!       such they are in sequentiial order\n",
    "                data_train = data_train.sort_values(by=curr_feat).reset_index(drop=True)\n",
    "                \n",
    "                for j in range(1,data_train.shape[0]):\n",
    "                    score = np.empty(2)\n",
    "                    score.fill(np.NaN)\n",
    "                    \n",
    "                    #! Set Threshold\n",
    "                    curr_thresh = (data_train[curr_feat][j-1] + data_train[curr_feat][j])/2\n",
    "                    \n",
    "                    #! Split Data\n",
    "                    left_data = data_train[data_train[curr_feat] < curr_thresh].reset_index(drop=True)\n",
    "                    right_data = data_train[data_train[curr_feat] > curr_thresh].reset_index(drop=True)\n",
    "                    \n",
    "                    #! Compute the probability of picking a 1 or 0 in each node\n",
    "                    prob_1_left = np.sum(left_data['y'])/left_data.shape[0]\n",
    "                    prob_0_left = 1 - prob_1_left\n",
    "                    score[0] = 1 - np.power(prob_1_left,2) - np.power(prob_0_left,2)\n",
    "                    prob_1_right = np.sum(right_data['y'])/right_data.shape[0]\n",
    "                    prob_0_right = 1 - prob_1_right\n",
    "                    score[1] = 1 - np.power(prob_1_right,2) - np.power(prob_0_right,2)\n",
    "                \n",
    "                    #! Determine the best gini score for this data set at the current split\n",
    "                    if (not best_score < score[0]+score[1]):\n",
    "                        best_score = score[0] + score[1]\n",
    "                        des_thresh = curr_thresh\n",
    "                        thresh_feature = curr_feat\n",
    "                        node_data_left = left_data\n",
    "                        node_data_right = right_data                      \n",
    "            \n",
    "        split['threshold'] = des_thresh\n",
    "        split['thresh_feature'] = thresh_feature\n",
    "        split['score'] = best_score\n",
    "        split['left'] = running_tree_train(train_tree,node_data_left,k)\n",
    "        split['right'] = running_tree_train(train_tree,node_data_right,k)\n",
    "    \n",
    "    return split\n",
    "\n",
    "\n",
    "\n",
    "#! Creat the archetecture for the training tree\n",
    "train_tree = {}\n",
    "train_tree['threshold'] = np.NaN\n",
    "train_tree['thresh_feature'] = 0\n",
    "train_tree['score'] = np.NaN\n",
    "\n",
    "#! Define the data sets\n",
    "df = datasets['train1']\n",
    "test_data = datasets['test1']\n",
    "\n",
    "#! Split the training data into two sets\n",
    "train_data = df.sample(frac=0.8,random_state=200)\n",
    "validation_data = df.drop(train_data.index).reset_index(drop=True)\n",
    "        \n",
    "#! Tree depth\n",
    "tree_depth = 1\n",
    "              \n",
    "#! Run the training Tree\n",
    "trained_tree = running_tree_train(train_tree,train_data,tree_depth)\n",
    "#print(trained_tree)\n",
    "print('This tree is done running')"
   ]
  },
  {
   "cell_type": "markdown",
   "metadata": {},
   "source": [
    "# Prediction Tree Analysis and Associated Functions"
   ]
  },
  {
   "cell_type": "code",
   "execution_count": 9,
   "metadata": {},
   "outputs": [
    {
     "name": "stdout",
     "output_type": "stream",
     "text": [
      "Percent Correct:  1.0\n"
     ]
    }
   ],
   "source": [
    "def prediction_tree(trained_tree,test_data,k,split):\n",
    "    #split={}\n",
    "    #split['number_correct'] = 0\n",
    "    if (k == 0 or test_data.shape[0] <= 2):# or test_data['y'].drop_duplicates().shape[0] < 2):\n",
    "        #print(test_data.shape[0],test_data['y'].drop_duplicates().shape[0])\n",
    "        #! Compare label of test data versus trained_tree \n",
    "        #print(trained_tree)\n",
    "        split['number_correct'] = split['number_correct'] + test_data[test_data['y'] == trained_tree['label']].shape[0]\n",
    "    else:\n",
    "        k = k - 1\n",
    "        #! Split the test_data per the threshold of the current node of the trained tree\n",
    "        #print(k,test_data[test_data[trained_tree['thresh_feature']] < trained_tree['threshold']].shape[0])\n",
    "        #print(test_data[test_data[trained_tree['thresh_feature']]< trained_tree['threshold']])\n",
    "        left_data = test_data[test_data[trained_tree['thresh_feature']] < trained_tree['threshold']].reset_index(drop=True)\n",
    "        right_data = test_data[test_data[trained_tree['thresh_feature']] > trained_tree['threshold']].reset_index(drop=True)\n",
    "        #print(left_data.shape[0])\n",
    "        if left_data.shape[0] != 0:\n",
    "            split = prediction_tree(trained_tree['left'],left_data,k,split)\n",
    "        #print(right_data.shape[0])\n",
    "        if right_data.shape[0] != 0:\n",
    "            split = prediction_tree(trained_tree['right'],right_data,k,split)\n",
    "\n",
    "    return split\n",
    "\n",
    "\n",
    "def plot_prediction_tree(trained_tree,pict_data,tree_depth):\n",
    "    score = np.empty(pict_data.shape[0])\n",
    "    score.fill(np.NaN)\n",
    "    for i, curr_feat in enumerate(pict_data):\n",
    "          score[i] = compute_pict_data_class(score[i],tree_depth,curr_feat,trained_tree)\n",
    "    #print(score)\n",
    "    return score\n",
    "    \n",
    "    \n",
    "def compute_pict_data_class(score,k,pict_data,trained_tree):\n",
    "    if (k == 0 or trained_tree['thresh_feature'] == 0):\n",
    "        score = trained_tree['label']\n",
    "        #print(score)\n",
    "    else:\n",
    "        k = k - 1\n",
    "        if trained_tree['thresh_feature'] == 'x1':\n",
    "            if pict_data[0] < trained_tree['threshold']:\n",
    "                score = compute_pict_data_class(score,k,pict_data,trained_tree['left'])\n",
    "            else:\n",
    "                score = compute_pict_data_class(score,k,pict_data,trained_tree['right'])\n",
    "        else:\n",
    "            if pict_data[1] < trained_tree['threshold']:\n",
    "                score = compute_pict_data_class(score,k,pict_data,trained_tree['left'])\n",
    "            else:\n",
    "                score = compute_pict_data_class(score,k,pict_data,trained_tree['right'])\n",
    "    return score\n",
    "    \n",
    "\n",
    "#! Allocate space for the split data\n",
    "split_data = {}\n",
    "split_data['number_correct'] = 0\n",
    "\n",
    "#! Determine which set you predicting on\n",
    "data = test_data#validation_data#\n",
    "\n",
    "#! Run the prediction tree\n",
    "prediction_tree(trained_tree,data,tree_depth,split_data)\n",
    "print('Percent Correct: ', split_data['number_correct']/data.shape[0] )"
   ]
  },
  {
   "cell_type": "markdown",
   "metadata": {},
   "source": [
    "# Visualize Data"
   ]
  },
  {
   "cell_type": "code",
   "execution_count": 10,
   "metadata": {},
   "outputs": [
    {
     "data": {
      "image/png": "[encoded data removed]",
      "text/plain": [
       "<Figure size 432x288 with 2 Axes>"
      ]
     },
     "metadata": {
      "needs_background": "light"
     },
     "output_type": "display_data"
    }
   ],
   "source": [
    "#! This function is basically your source code\n",
    "def vis2d_classifier(tree,data):\n",
    "  \n",
    "  # create the domain for the plot\n",
    "  x1_min = data.x1.min()\n",
    "  x1_max = data.x1.max()\n",
    "  x2_min = data.x2.min()\n",
    "  x2_max = data.x2.max()\n",
    "\n",
    "  x1 = np.linspace(x1_min, x1_max, 200)\n",
    "  x2 = np.linspace(x2_min, x2_max, 200)\n",
    "  #vis_data = \n",
    "  X1,X2 = np.meshgrid(x1, x2)\n",
    "\n",
    "  # convert it into a matrix (rows are locations, columns are features)\n",
    "  vis_data = np.hstack([X1.reshape(-1,1),X2.reshape(-1,1)])\n",
    "  \n",
    "  # classify each location\n",
    "  #is_class, vis_sco = predict_tree() #tree_predict(tree,vis_data)\n",
    "  \n",
    "  #! This is the new function  \n",
    "  vis_sco = plot_prediction_tree(trained_tree,vis_data,tree_depth)\n",
    "\n",
    "  # convert back into image shapes\n",
    "  #vis_class = vis_class.reshape(X1.shape)\n",
    "  vis_sco = vis_sco.reshape(X1.shape)\n",
    "\n",
    "  #\n",
    "  # Make the plots\n",
    "  #\n",
    "\n",
    "  # show the function value in the background\n",
    "  cs = plt.imshow(vis_sco,\n",
    "    extent=(x1_min,x1_max,x2_max,x2_min), # define limits of grid, note reversed y axis\n",
    "    cmap=plt.cm.jet, vmin=0.,vmax=1.)\n",
    "  plt.clim(0,1) # defines the value to assign the min/max color\n",
    "\n",
    "  # draw the line on top\n",
    "  levels = np.array([.5])\n",
    "  cs_line = plt.contour(X1,X2,vis_sco,levels, colors='k')\n",
    "\n",
    "  plt.scatter(data.x1,data.x2,c=data.y,edgecolors='w',cmap=plt.get_cmap('jet'))\n",
    "\n",
    "  # add a color bar\n",
    "  CB = plt.colorbar(cs)\n",
    "\n",
    "  plt.show()\n",
    "  \n",
    "vis2d_classifier(trained_tree,data)"
   ]
  }
 ],
 "metadata": {
  "kernelspec": {
   "display_name": "Python 3",
   "language": "python",
   "name": "python3"
  },
  "language_info": {
   "codemirror_mode": {
    "name": "ipython",
    "version": 3
   },
   "file_extension": ".py",
   "mimetype": "text/x-python",
   "name": "python",
   "nbconvert_exporter": "python",
   "pygments_lexer": "ipython3",
   "version": "3.6.6"
  }
 },
 "nbformat": 4,
 "nbformat_minor": 2
}
