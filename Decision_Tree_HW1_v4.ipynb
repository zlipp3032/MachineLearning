{
 "cells": [
  {
   "cell_type": "markdown",
   "metadata": {
    "colab_type": "text",
    "id": "CNFpKWYaI1vq"
   },
   "source": [
    "# Decision Tree Fitting Starter\n",
    "\n",
    "An example of loading data, manually specifying a decision tree, predicting values for new features, and visualizing the resulting decision tree.\n",
    "\n",
    "See below for project description.\n",
    "\n",
    "\n",
    "* Class name: CS 460g\n",
    "* Assignment: Homework #1 \n",
    "* Student Name: [ADD YOUR NAME HERE]\n",
    "* Student Number: [ADD YOUR ID NUMBER HERE]"
   ]
  },
  {
   "cell_type": "code",
   "execution_count": 6,
   "metadata": {
    "colab": {},
    "colab_type": "code",
    "id": "y5ay9P7TKNhE"
   },
   "outputs": [],
   "source": [
    "import numpy as np\n",
    "import copy\n",
    "import pandas as pd\n",
    "import matplotlib.pyplot as plt"
   ]
  },
  {
   "cell_type": "code",
   "execution_count": 112,
   "metadata": {
    "colab": {},
    "colab_type": "code",
    "id": "wVKZIqsgIW4f"
   },
   "outputs": [
    {
     "name": "stdout",
     "output_type": "stream",
     "text": [
      "[[ True]\n",
      " [ True]]\n",
      "[[0.66666669]\n",
      " [0.66666669]]\n"
     ]
    }
   ],
   "source": [
    "def tree_predict(tree,feat_test):\n",
    "\n",
    "  # predict the label and compute the score for each row in feat_test for a given tree\n",
    "  sco = np.empty((feat_test.shape[0],1))\n",
    "  sco.fill(np.nan) # good practice to use NaNs to initialize\n",
    "\n",
    "  # compute P(true|feat) at the leaf node for each test case\n",
    "  for i, feat_cur in enumerate(feat_test):\n",
    "\n",
    "    # run the current example down the tree\n",
    "    node = tree\n",
    "    while True:      \n",
    "      if 'left' in node:\n",
    "        # at a split node\n",
    "        if feat_cur[node['dimension']] < node['threshold']:\n",
    "          node = node['left']\n",
    "        else:\n",
    "          node = node['right']\n",
    "      else:\n",
    "        # at a leaf node\n",
    "        sco[i] = node['freq'][1] / np.sum(node['freq']);\n",
    "        break\n",
    "\n",
    "  label_pred = .5 <= sco;\n",
    "  \n",
    "  return label_pred, sco\n",
    "\n",
    "\n",
    "# Here are some examples of handcoded decision trees, you \n",
    "# will need to build decision trees below by looking at the data\n",
    "\n",
    "fake_test_data = np.array([[1,2,3],[2,2,2]],dtype=np.float32)\n",
    "\n",
    "#print(\"simple depth-0 decision tree\")\n",
    "tree0 = {}\n",
    "tree0['freq'] = np.array([1,2],dtype=np.float32)\n",
    "label, sco = tree_predict(tree0,fake_test_data)\n",
    "print(label)\n",
    "print(sco)\n",
    "\n",
    "#print(\"simple depth-1 decision tree\")\n",
    "tree1_left = {}\n",
    "tree1_left['freq'] = np.array([1,2],dtype=np.float32)\n",
    "tree1_right = {}\n",
    "tree1_right['freq'] = np.array([2,1],dtype=np.float32)\n",
    "tree1 = {}\n",
    "tree1['left'] = tree1_left\n",
    "tree1['right'] = tree1_right\n",
    "tree1['dimension'] = 0\n",
    "tree1['threshold'] = 1.5\n",
    "label, sco = tree_predict(tree1,fake_test_data)\n",
    "#print(label)\n",
    "#print(sco)"
   ]
  },
  {
   "cell_type": "markdown",
   "metadata": {
    "colab_type": "text",
    "id": "NlmQQQcWIjBE"
   },
   "source": [
    "# Make Data"
   ]
  },
  {
   "cell_type": "code",
   "execution_count": 2,
   "metadata": {
    "colab": {},
    "colab_type": "code",
    "id": "fRNrYERgOz5N"
   },
   "outputs": [],
   "source": [
    "def gen_from_mean_and_cov(means, covs, labels, mode='train', count=100):\n",
    "  \n",
    "  np.random.seed(0) if mode == 'train' else np.random.seed(1)\n",
    "      \n",
    "  vals = np.array([]).reshape(0,len(means[0])+1)\n",
    "\n",
    "  for i, (mean,cov,label) in enumerate(zip(means,covs,labels)):\n",
    "    vals_new = np.random.multivariate_normal(mean,cov,count);\n",
    "    vals_new = np.hstack([vals_new,np.ones((vals_new.shape[0],1))*label])\n",
    "    vals = np.vstack([vals,vals_new])    \n",
    "\n",
    "  df = pd.DataFrame(data=vals,columns=['x1','x2','y'])\n",
    "\n",
    "  return df\n",
    "\n",
    "# There are 6 different simple training datasets\n",
    "\n",
    "datasets = {\n",
    "    'train1':gen_from_mean_and_cov([[10,1],[0,4]],[[[2, 0],[0, 2]],[[2, 0],[0, 2]]],[1,0]),\n",
    "    'train2':gen_from_mean_and_cov([[10,1],[0,4]],[[[2, 0],[0, 2]],[[2, 0],[0, 2]]],[0,1]),\n",
    "    'train3':gen_from_mean_and_cov([[0,1],[0,3.5]],[[[1, .8],[.8, 1]],[[1, .8],[.8, 1]]],[1,0]),\n",
    "    'train4':gen_from_mean_and_cov([[1,0],[3,1]],[[[1, .8],[.8, 1]],[[1, .9],[.9, 1]]],[1,0]),\n",
    "    'train5':gen_from_mean_and_cov([[0,0],[4,0],[-4,0],[0,4],[0,-4]],[[[1, 0],[0, 1]],[[1, 0],[0, 1]],[[1, 0],[0, 1]],[[1, 0],[0, 1]],[[1, 0],[0, 1]]],[1,0,0,0,0]),\n",
    "    'train6':gen_from_mean_and_cov(\n",
    "    [[0,0],[4,0],[-4,0],[0,4],[0,-4],[-4,4],[4,4],[4,-4],[-4,-4]],\n",
    "    [[[1, 0],[0, 1]],[[1, 0],[0, 1]],[[1, 0],[0, 1]],[[1, 0],[0, 1]],[[1, 0],[0, 1]],[[1, 0],[0, 1]],[[1, 0],[0, 1]],[[1, 0],[0, 1]],[[1, 0],[0, 1]]],\n",
    "    [1,0,0,0,0,1,1,1,1]),\n",
    "    'test1':gen_from_mean_and_cov([[10,1],[0,4]],[[[2, 0],[0, 2]],[[2, 0],[0, 2]]],[1,0],mode='test'),\n",
    "    'test2':gen_from_mean_and_cov([[10,1],[0,4]],[[[2, 0],[0, 2]],[[2, 0],[0, 2]]],[0,1],mode='test'),\n",
    "    'test3':gen_from_mean_and_cov([[0,1],[0,3.5]],[[[1, .8],[.8, 1]],[[1, .8],[.8, 1]]],[1,0],mode='test'),\n",
    "    'test4':gen_from_mean_and_cov([[1,0],[3,1]],[[[1, .8],[.8, 1]],[[1, .9],[.9, 1]]],[1,0],mode='test'),\n",
    "    'test5':gen_from_mean_and_cov([[0,0],[4,0],[-4,0],[0,4],[0,-4]],[[[1, 0],[0, 1]],[[1, 0],[0, 1]],[[1, 0],[0, 1]],[[1, 0],[0, 1]],[[1, 0],[0, 1]]],[1,0,0,0,0],mode='test'),\n",
    "    'test6':gen_from_mean_and_cov(\n",
    "    [[0,0],[4,0],[-4,0],[0,4],[0,-4],[-4,4],[4,4],[4,-4],[-4,-4]],\n",
    "    [[[1, 0],[0, 1]],[[1, 0],[0, 1]],[[1, 0],[0, 1]],[[1, 0],[0, 1]],[[1, 0],[0, 1]],[[1, 0],[0, 1]],[[1, 0],[0, 1]],[[1, 0],[0, 1]],[[1, 0],[0, 1]]],\n",
    "    [1,0,0,0,0,1,1,1,1],mode='test')\n",
    "}\n",
    "\n",
    "#df = datasets['train1']\n",
    "\n",
    "# if you want to write out the CSV and re-read it\n",
    "# df.to_csv('tmp.csv')\n",
    "# df = pd.read_csv('tmp.csv')\n"
   ]
  },
  {
   "cell_type": "markdown",
   "metadata": {
    "colab_type": "text",
    "id": "Xp3Kof8UIoAQ"
   },
   "source": [
    "# Visualize Data\n"
   ]
  },
  {
   "cell_type": "code",
   "execution_count": 11,
   "metadata": {
    "colab": {},
    "colab_type": "code",
    "id": "4TpCzV7iPjxN"
   },
   "outputs": [
    {
     "name": "stdout",
     "output_type": "stream",
     "text": [
      "[nan  1.  2.  0.] [0. 1. 0. 0.]\n",
      "0\n",
      "1\n",
      "2\n",
      "3\n",
      "range(0, 4)\n"
     ]
    },
    {
     "data": {
      "image/png": "[encoded data removed]",
      "text/plain": [
       "<Figure size 432x288 with 1 Axes>"
      ]
     },
     "metadata": {
      "needs_background": "light"
     },
     "output_type": "display_data"
    }
   ],
   "source": [
    "#df = datasets['train3']\n",
    "plt.scatter(df.x1,df.x2,c=df.y,cmap=plt.get_cmap('jet'));\n",
    "\n",
    "x = np.array([[np.NaN,1,2,0],[0,1,0,0]])\n",
    "t = x.shape[1]\n",
    "y = np.count_nonzero(~np.isnan(x[0]))\n",
    "print(x[0],x[1])\n",
    "g = range(0,4)\n",
    "for i in g:\n",
    "    print(i)\n",
    "print(g)"
   ]
  },
  {
   "cell_type": "markdown",
   "metadata": {
    "colab_type": "text",
    "id": "QYa4N3v_Irj1"
   },
   "source": [
    "# Fit Decision Tree"
   ]
  },
  {
   "cell_type": "code",
   "execution_count": 18,
   "metadata": {
    "colab": {},
    "colab_type": "code",
    "id": "DTtRC5PTIs_M"
   },
   "outputs": [
    {
     "ename": "AttributeError",
     "evalue": "'dict' object has no attribute 'shape'",
     "output_type": "error",
     "traceback": [
      "\u001b[1;31m---------------------------------------------------------------------------\u001b[0m",
      "\u001b[1;31mAttributeError\u001b[0m                            Traceback (most recent call last)",
      "\u001b[1;32m<ipython-input-18-bf315b58a409>\u001b[0m in \u001b[0;36m<module>\u001b[1;34m()\u001b[0m\n\u001b[0;32m    172\u001b[0m \u001b[1;33m\u001b[0m\u001b[0m\n\u001b[0;32m    173\u001b[0m \u001b[1;31m#! First pass through the training tree\u001b[0m\u001b[1;33m\u001b[0m\u001b[1;33m\u001b[0m\u001b[0m\n\u001b[1;32m--> 174\u001b[1;33m \u001b[0mtrained_tree\u001b[0m \u001b[1;33m=\u001b[0m \u001b[0mtree_train\u001b[0m\u001b[1;33m(\u001b[0m\u001b[0mtree\u001b[0m\u001b[1;33m,\u001b[0m\u001b[0mdf\u001b[0m\u001b[1;33m,\u001b[0m\u001b[0mfreq\u001b[0m\u001b[1;33m,\u001b[0m\u001b[0mtree_depth\u001b[0m\u001b[1;33m)\u001b[0m\u001b[1;33m\u001b[0m\u001b[0m\n\u001b[0m\u001b[0;32m    175\u001b[0m \u001b[1;33m\u001b[0m\u001b[0m\n\u001b[0;32m    176\u001b[0m \u001b[1;31m#print(type(tree))\u001b[0m\u001b[1;33m\u001b[0m\u001b[1;33m\u001b[0m\u001b[0m\n",
      "\u001b[1;32m<ipython-input-18-bf315b58a409>\u001b[0m in \u001b[0;36mtree_train\u001b[1;34m(tree, data_train, freq, k)\u001b[0m\n\u001b[0;32m    135\u001b[0m     \u001b[1;32mif\u001b[0m \u001b[0mk\u001b[0m \u001b[1;33m!=\u001b[0m \u001b[1;36m1\u001b[0m\u001b[1;33m:\u001b[0m\u001b[1;33m\u001b[0m\u001b[0m\n\u001b[0;32m    136\u001b[0m         \u001b[0mk\u001b[0m \u001b[1;33m=\u001b[0m \u001b[0mk\u001b[0m\u001b[1;33m-\u001b[0m\u001b[1;36m1\u001b[0m\u001b[1;33m\u001b[0m\u001b[0m\n\u001b[1;32m--> 137\u001b[1;33m         \u001b[0mthis_node\u001b[0m\u001b[1;33m[\u001b[0m\u001b[1;34m'left'\u001b[0m\u001b[1;33m]\u001b[0m \u001b[1;33m=\u001b[0m \u001b[0mtree_train\u001b[0m\u001b[1;33m(\u001b[0m\u001b[0mtree\u001b[0m\u001b[1;33m,\u001b[0m\u001b[0mthis_node_data\u001b[0m\u001b[1;33m[\u001b[0m\u001b[1;34m'left'\u001b[0m\u001b[1;33m]\u001b[0m\u001b[1;33m,\u001b[0m\u001b[0mthis_node_data\u001b[0m\u001b[1;33m[\u001b[0m\u001b[1;34m'left'\u001b[0m\u001b[1;33m]\u001b[0m\u001b[1;33m[\u001b[0m\u001b[1;34m'freq'\u001b[0m\u001b[1;33m]\u001b[0m\u001b[1;33m,\u001b[0m\u001b[0mk\u001b[0m\u001b[1;33m)\u001b[0m\u001b[1;33m\u001b[0m\u001b[0m\n\u001b[0m\u001b[0;32m    138\u001b[0m         \u001b[0mthis_node\u001b[0m\u001b[1;33m[\u001b[0m\u001b[1;34m'right'\u001b[0m\u001b[1;33m]\u001b[0m \u001b[1;33m=\u001b[0m \u001b[0mtree_train\u001b[0m\u001b[1;33m(\u001b[0m\u001b[0mtree\u001b[0m\u001b[1;33m,\u001b[0m\u001b[0mthis_node_data\u001b[0m\u001b[1;33m[\u001b[0m\u001b[1;34m'right'\u001b[0m\u001b[1;33m]\u001b[0m\u001b[1;33m,\u001b[0m\u001b[0mthis_node_data\u001b[0m\u001b[1;33m[\u001b[0m\u001b[1;34m'right'\u001b[0m\u001b[1;33m]\u001b[0m\u001b[1;33m[\u001b[0m\u001b[1;34m'freq'\u001b[0m\u001b[1;33m]\u001b[0m\u001b[1;33m,\u001b[0m\u001b[0mk\u001b[0m\u001b[1;33m)\u001b[0m\u001b[1;33m\u001b[0m\u001b[0m\n\u001b[0;32m    139\u001b[0m     \u001b[1;32melse\u001b[0m\u001b[1;33m:\u001b[0m\u001b[1;33m\u001b[0m\u001b[0m\n",
      "\u001b[1;32m<ipython-input-18-bf315b58a409>\u001b[0m in \u001b[0;36mtree_train\u001b[1;34m(tree, data_train, freq, k)\u001b[0m\n\u001b[0;32m     61\u001b[0m \u001b[1;33m\u001b[0m\u001b[0m\n\u001b[0;32m     62\u001b[0m             \u001b[1;31m#! Loop through each possible threshold in the data set at the current feature\u001b[0m\u001b[1;33m\u001b[0m\u001b[1;33m\u001b[0m\u001b[0m\n\u001b[1;32m---> 63\u001b[1;33m             \u001b[1;32mfor\u001b[0m \u001b[0mj\u001b[0m \u001b[1;32min\u001b[0m \u001b[0mrange\u001b[0m\u001b[1;33m(\u001b[0m\u001b[1;36m1\u001b[0m\u001b[1;33m,\u001b[0m\u001b[0mdata_train\u001b[0m\u001b[1;33m.\u001b[0m\u001b[0mshape\u001b[0m\u001b[1;33m[\u001b[0m\u001b[1;36m0\u001b[0m\u001b[1;33m]\u001b[0m\u001b[1;33m)\u001b[0m\u001b[1;33m:\u001b[0m\u001b[1;33m\u001b[0m\u001b[0m\n\u001b[0m\u001b[0;32m     64\u001b[0m \u001b[1;33m\u001b[0m\u001b[0m\n\u001b[0;32m     65\u001b[0m                 \u001b[1;31m#! Reset all the values in \"node\"\u001b[0m\u001b[1;33m\u001b[0m\u001b[1;33m\u001b[0m\u001b[0m\n",
      "\u001b[1;31mAttributeError\u001b[0m: 'dict' object has no attribute 'shape'"
     ]
    }
   ],
   "source": [
    "#\n",
    "# TODO write a function (or functions) to automatically construct a decision \n",
    "#      tree, store the result as the variable \"tree\"\n",
    "#\n",
    "# Requirements:\n",
    "#   - Must be written in Python 3 using standard libraries.\n",
    "#   - You may only use binary splits\n",
    "#   - To determine a set of valid splits, sort each attribute separately and\n",
    "#     compute the midpoint between consecutive values.\n",
    "#   - You must use Gini or InfoGain as the node impurity measure.\n",
    "#   - It only needs to work for binary binary labels {0,1}\n",
    "#   - You can only use basic Python and Numpy functions to build the tree.  You \n",
    "#     may not use a pre-existing higher-level library for decision tree fitting.\n",
    "#     However, you may find it useful to do that to compare how your algorithm\n",
    "#     is working.\n",
    "#\n",
    "#   - Train a decision tree for all 6 datasets defined above: train1, train2,\n",
    "#     train3, train4, train5, and train6.\n",
    "#\n",
    "#   - Compute the percent correct of predictions made by your decision tree on\n",
    "#     the training set and the corresponding test set (don't merge the two\n",
    "#     datasets, compute percent correct separately for each).  Include both\n",
    "#     numbers, for each dataset, in a single table (for a total of 12 numbers).\n",
    "#\n",
    "# Source code:\n",
    "#\n",
    "#  - Submit all source code.  You may convert this into a set of Python scripts \n",
    "#    or write all code in an iPython notebook.\n",
    "#\n",
    "# Writeup:\n",
    "#\n",
    "#  - Submit a Word document or PDF (all other formats will not be graded!).\n",
    "#  - Include your name, student number, class name, and \"Homework #1\".\n",
    "#  - It must:\n",
    "#    - Include the classifier visualization below for each dataset (overlay the\n",
    "#      test set points)\n",
    "#    - Include a description of any unique aspects of your solution.\n",
    "#    - Include instructions for how to run your solution.\n",
    "#\n",
    "# Graduate Student Extra Work (Small Bonus for Undergraduates):\n",
    "#\n",
    "#  Choose one of the following:\n",
    "#\n",
    "#  - Implement Gini, InfoGain, and Misclassification error split criteria.\n",
    "#    Compare the accuracy on the training set.  Which one is better?  Why?\n",
    "#\n",
    "#  - Implement the ability to limit the maximum depth of the decision tree.\n",
    "#    What is the optimal depth for each dataset?  Why did you pick this value?\n",
    "#\n",
    "\n",
    "def tree_train(tree,data_train,freq,k):\n",
    "    \n",
    "    #! Initiate parameters\n",
    "    best_score = np.NaN\n",
    "    this_node_data = {}\n",
    "    node = copy.deepcopy(tree)\n",
    "    \n",
    "    #! Loop through each feature\n",
    "    for i, curr_feat in enumerate(data_train):\n",
    "        if (not curr_feat == 'y'): # This value acts as an identifier\n",
    "            \n",
    "            #! Loop through each possible threshold in the data set at the current feature\n",
    "            for j in range(1,data_train.shape[0]):\n",
    "                \n",
    "                #! Reset all the values in \"node\"\n",
    "                node['left']['freq'].fill(0)\n",
    "                node['left']['label'].fill(0)\n",
    "                node['left']['x1'].fill(0)\n",
    "                node['left']['x2'].fill(0)\n",
    "                node['right']['freq'].fill(0)\n",
    "                node['right']['label'].fill(0)\n",
    "                node['right']['x1'].fill(0)\n",
    "                node['right']['x2'].fill(0)\n",
    "                score = np.empty(2)\n",
    "                score.fill(np.NaN)\n",
    "                \n",
    "                #! Compute the threshold at the current datum in the current feature\n",
    "                curr_thresh = (data_train[curr_feat][j-1] + data_train[curr_feat][j])/2\n",
    "                \n",
    "                #! Determine which data belongs in the child node at current threshold\n",
    "                for h, curr_datum in enumerate(data_train[curr_feat]):\n",
    "                    if (curr_datum < curr_thresh and freq[h] == 1):\n",
    "                        node['left']['freq'][h] = node['left']['freq'][h] + 1\n",
    "                        node['left']['label'][h] = node['left']['label'][h] + data_train['y'][h]\n",
    "                        node['left']['x1'][h] = data_train['x1'][h]\n",
    "                        node['left']['x2'][h] = data_train['x2'][h]\n",
    "                    elif (curr_datum >= curr_thresh and freq[h] == 1):\n",
    "                        node['right']['freq'][h] = node['right']['freq'][h] + 1\n",
    "                        node['right']['label'][h] = node['right']['label'][h] + data_train['y'][h]\n",
    "                        node['right']['x1'][h] = data_train['x1'][h]\n",
    "                        node['right']['x2'][h] = data_train['x2'][h]\n",
    "                \n",
    "                #! Compute the probabilities and GINI score of Left child node\n",
    "                prob_left_1 = np.count_nonzero(node['left']['label'])/np.count_nonzero(node['left']['freq'])\n",
    "                prob_left_0 = 1 - prob_left_1\n",
    "                if prob_left_1 < 0.5:\n",
    "                    node['left']['leaf_label'] = 0\n",
    "                    score[0] = 1 - np.power(prob_left_1,2) - np.power(prob_left_0,2)\n",
    "                else:\n",
    "                    node['left']['leaf_label'] = 1\n",
    "                    score[0] = 1 - np.power(prob_left_1,2) - np.power(prob_left_0,2)\n",
    "                    \n",
    "                #! Compute the probabilities and GINI score of Right child node\n",
    "                prob_right_1 = np.count_nonzero(node['right']['label'])/np.count_nonzero(node['right']['freq'])\n",
    "                prob_right_0 = 1 - prob_right_1\n",
    "                if prob_right_1 < 0.5:\n",
    "                    node['right']['leaf_label'] = 0\n",
    "                    score[1] = 1 - np.power(prob_right_1,2) - np.power(prob_right_0,2)\n",
    "                else:\n",
    "                    node['right']['leaf_label'] = 1\n",
    "                    score[1] = 1 - np.power(prob_right_1,2) - np.power(prob_right_0,2)\n",
    "                    \n",
    "                #! Compare this node threshold with the \"best\" score computed for this training data\n",
    "                #!             NOTE: Will only update if the GINI score is better at this node than \n",
    "                #!                   previous nodes\n",
    "                if (not best_score < score[0]+score[1]):\n",
    "                    best_score = score[0] + score[1]\n",
    "                    des_thresh = curr_thresh\n",
    "                    thresh_feature = curr_feat\n",
    "                    index = j\n",
    "                    this_node_data['left'] = copy.deepcopy(node['left'])\n",
    "                    this_node_data['right'] = copy.deepcopy(node['right'])\n",
    "    \n",
    "    #! Update the outputs of the running_tree_train() function\n",
    "    this_node = {}\n",
    "    this_node['score'] = best_score\n",
    "    this_node['threshold'] = des_thresh\n",
    "    this_node['thresh_feature'] = thresh_feature\n",
    "    this_node['left'] = {}\n",
    "    this_node['right'] = {}\n",
    "    this_node['label'] = {}\n",
    "    #this_node['index'] = index\n",
    "    \n",
    "    #! Tree depth ---> remaining recursions\n",
    "    if k != 1:\n",
    "        k = k-1\n",
    "        this_node['left'] = tree_train(tree,this_node_data['left'],this_node_data['left']['freq'],k)\n",
    "        this_node['right'] = tree_train(tree,this_node_data['right'],this_node_data['right']['freq'],k)\n",
    "    else:\n",
    "        k = k-1\n",
    "        #this_node['label'] = this_node_data['leaf_label']\n",
    "        print('This tree is done running!!!')\n",
    "    \n",
    "    return this_node\n",
    "\n",
    "\n",
    "#! Prescribe tree depth and dataset\n",
    "tree_depth = 2\n",
    "df = datasets['train1']\n",
    "\n",
    "#! This is similar to your template\n",
    "treez_left = {}\n",
    "treez_left['freq'] = np.zeros((df.shape[0]))\n",
    "treez_left['label'] = np.zeros((df.shape[0]))\n",
    "treez_left['x1'] = np.zeros((df.shape[0]))\n",
    "treez_left['x2'] = np.zeros((df.shape[0]))\n",
    "treez_left['leaf_label'] = np.NaN\n",
    "treez_right = {}\n",
    "treez_right['freq'] = np.zeros((df.shape[0]))\n",
    "treez_right['label'] = np.zeros((df.shape[0]))\n",
    "treez_right['x1'] = np.zeros((df.shape[0]))\n",
    "treez_right['x2'] = np.zeros((df.shape[0]))\n",
    "treez_right['leaf_label'] = np.NaN\n",
    "freq = np.ones(df.shape[0])\n",
    "\n",
    "#! Construct default tree archetecture\n",
    "tree = {}\n",
    "tree['left'] = treez_left\n",
    "tree['right'] = treez_right\n",
    "tree['leaf_label'] = np.NaN\n",
    "big_tree = {}\n",
    "\n",
    "#! First pass through the training tree\n",
    "trained_tree = tree_train(tree,df,freq,tree_depth)\n",
    "\n",
    "#print(type(tree))\n",
    "\n",
    "#print(node_data)        \n",
    "\n",
    "#print(node_params)\n",
    "\n",
    "#print(tree)"
   ]
  },
  {
   "cell_type": "code",
   "execution_count": 17,
   "metadata": {},
   "outputs": [
    {
     "name": "stdout",
     "output_type": "stream",
     "text": [
      "{'score': 0.0, 'threshold': 6.26858782794288, 'thresh_feature': 'x1', 'left': {}, 'right': {}, 'label': {}}\n"
     ]
    }
   ],
   "source": [
    "print(trained_tree)"
   ]
  },
  {
   "cell_type": "markdown",
   "metadata": {
    "colab_type": "text",
    "id": "SSVlQaiDItf1"
   },
   "source": [
    "# Visualize Classifier\n",
    "\n",
    "For a range of values in feature space show the score, decision, decision boundary, and samples."
   ]
  },
  {
   "cell_type": "code",
   "execution_count": 113,
   "metadata": {
    "colab": {},
    "colab_type": "code",
    "id": "m7LnZHV2JRSJ"
   },
   "outputs": [
    {
     "ename": "IndexError",
     "evalue": "index 10 is out of bounds for axis 0 with size 2",
     "output_type": "error",
     "traceback": [
      "\u001b[0;31m---------------------------------------------------------------------------\u001b[0m",
      "\u001b[0;31mIndexError\u001b[0m                                Traceback (most recent call last)",
      "\u001b[0;32m<ipython-input-113-739aa4cb1ac4>\u001b[0m in \u001b[0;36m<module>\u001b[0;34m()\u001b[0m\n\u001b[1;32m     42\u001b[0m   \u001b[0mplt\u001b[0m\u001b[0;34m.\u001b[0m\u001b[0mshow\u001b[0m\u001b[0;34m(\u001b[0m\u001b[0;34m)\u001b[0m\u001b[0;34m\u001b[0m\u001b[0m\n\u001b[1;32m     43\u001b[0m \u001b[0;34m\u001b[0m\u001b[0m\n\u001b[0;32m---> 44\u001b[0;31m \u001b[0mvis2d_classifier\u001b[0m\u001b[0;34m(\u001b[0m\u001b[0mtree\u001b[0m\u001b[0;34m,\u001b[0m\u001b[0mdf\u001b[0m\u001b[0;34m)\u001b[0m\u001b[0;34m\u001b[0m\u001b[0m\n\u001b[0m",
      "\u001b[0;32m<ipython-input-113-739aa4cb1ac4>\u001b[0m in \u001b[0;36mvis2d_classifier\u001b[0;34m(tree, data)\u001b[0m\n\u001b[1;32m     15\u001b[0m \u001b[0;34m\u001b[0m\u001b[0m\n\u001b[1;32m     16\u001b[0m   \u001b[0;31m# classify each location\u001b[0m\u001b[0;34m\u001b[0m\u001b[0;34m\u001b[0m\u001b[0m\n\u001b[0;32m---> 17\u001b[0;31m   \u001b[0mvis_class\u001b[0m\u001b[0;34m,\u001b[0m \u001b[0mvis_sco\u001b[0m \u001b[0;34m=\u001b[0m \u001b[0mtree_predict\u001b[0m\u001b[0;34m(\u001b[0m\u001b[0mtree\u001b[0m\u001b[0;34m,\u001b[0m\u001b[0mvis_data\u001b[0m\u001b[0;34m)\u001b[0m\u001b[0;34m\u001b[0m\u001b[0m\n\u001b[0m\u001b[1;32m     18\u001b[0m \u001b[0;34m\u001b[0m\u001b[0m\n\u001b[1;32m     19\u001b[0m   \u001b[0;31m# convert back into image shapes\u001b[0m\u001b[0;34m\u001b[0m\u001b[0;34m\u001b[0m\u001b[0m\n",
      "\u001b[0;32m<ipython-input-112-68c5ea57c061>\u001b[0m in \u001b[0;36mtree_predict\u001b[0;34m(tree, feat_test)\u001b[0m\n\u001b[1;32m     13\u001b[0m       \u001b[0;32mif\u001b[0m \u001b[0;34m'left'\u001b[0m \u001b[0;32min\u001b[0m \u001b[0mnode\u001b[0m\u001b[0;34m:\u001b[0m\u001b[0;34m\u001b[0m\u001b[0m\n\u001b[1;32m     14\u001b[0m         \u001b[0;31m# at a split node\u001b[0m\u001b[0;34m\u001b[0m\u001b[0;34m\u001b[0m\u001b[0m\n\u001b[0;32m---> 15\u001b[0;31m         \u001b[0;32mif\u001b[0m \u001b[0mfeat_cur\u001b[0m\u001b[0;34m[\u001b[0m\u001b[0mnode\u001b[0m\u001b[0;34m[\u001b[0m\u001b[0;34m'dimension'\u001b[0m\u001b[0;34m]\u001b[0m\u001b[0;34m]\u001b[0m \u001b[0;34m<\u001b[0m \u001b[0mnode\u001b[0m\u001b[0;34m[\u001b[0m\u001b[0;34m'threshold'\u001b[0m\u001b[0;34m]\u001b[0m\u001b[0;34m:\u001b[0m\u001b[0;34m\u001b[0m\u001b[0m\n\u001b[0m\u001b[1;32m     16\u001b[0m           \u001b[0mnode\u001b[0m \u001b[0;34m=\u001b[0m \u001b[0mnode\u001b[0m\u001b[0;34m[\u001b[0m\u001b[0;34m'left'\u001b[0m\u001b[0;34m]\u001b[0m\u001b[0;34m\u001b[0m\u001b[0m\n\u001b[1;32m     17\u001b[0m         \u001b[0;32melse\u001b[0m\u001b[0;34m:\u001b[0m\u001b[0;34m\u001b[0m\u001b[0m\n",
      "\u001b[0;31mIndexError\u001b[0m: index 10 is out of bounds for axis 0 with size 2"
     ]
    }
   ],
   "source": [
    "def vis2d_classifier(tree,data):\n",
    "  \n",
    "  # create the domain for the plot\n",
    "  x1_min = data.x1.min()\n",
    "  x1_max = data.x1.max()\n",
    "  x2_min = data.x2.min()\n",
    "  x2_max = data.x2.max()\n",
    "\n",
    "  x1 = np.linspace(x1_min, x1_max, 200)\n",
    "  x2 = np.linspace(x2_min, x2_max, 200)\n",
    "  X1,X2 = np.meshgrid(x1, x2)\n",
    "\n",
    "  # convert it into a matrix (rows are locations, columns are features)\n",
    "  vis_data = np.hstack([X1.reshape(-1,1),X2.reshape(-1,1)])\n",
    "\n",
    "  # classify each location\n",
    "  vis_class, vis_sco = tree_predict(tree,vis_data)\n",
    "\n",
    "  # convert back into image shapes\n",
    "  vis_class = vis_class.reshape(X1.shape)\n",
    "  vis_sco = vis_sco.reshape(X1.shape)\n",
    "\n",
    "  #\n",
    "  # Make the plots\n",
    "  #\n",
    "\n",
    "  # show the function value in the background\n",
    "  cs = plt.imshow(vis_sco,\n",
    "    extent=(x1_min,x1_max,x2_max,x2_min), # define limits of grid, note reversed y axis\n",
    "    cmap=plt.cm.jet, vmin=0.,vmax=1.)\n",
    "  plt.clim(0,1) # defines the value to assign the min/max color\n",
    "\n",
    "  # draw the line on top\n",
    "  levels = np.array([.5])\n",
    "  cs_line = plt.contour(X1,X2,vis_sco,levels, colors='k')\n",
    "\n",
    "  plt.scatter(data.x1,data.x2,c=data.y,edgecolors='w',cmap=plt.get_cmap('jet'))\n",
    "\n",
    "  # add a color bar\n",
    "  CB = plt.colorbar(cs)\n",
    "\n",
    "  plt.show()\n",
    "  \n",
    "vis2d_classifier(tree,df)"
   ]
  }
 ],
 "metadata": {
  "colab": {
   "collapsed_sections": [],
   "name": "Decision Tree Starter.ipynb",
   "private_outputs": true,
   "provenance": [],
   "version": "0.3.2"
  },
  "kernelspec": {
   "display_name": "Python 3",
   "language": "python",
   "name": "python3"
  },
  "language_info": {
   "codemirror_mode": {
    "name": "ipython",
    "version": 3
   },
   "file_extension": ".py",
   "mimetype": "text/x-python",
   "name": "python",
   "nbconvert_exporter": "python",
   "pygments_lexer": "ipython3",
   "version": "3.6.6"
  }
 },
 "nbformat": 4,
 "nbformat_minor": 1
}
